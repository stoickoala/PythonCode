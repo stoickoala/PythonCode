{
 "cells": [
  {
   "cell_type": "code",
   "execution_count": 70,
   "metadata": {},
   "outputs": [],
   "source": [
    "import numpy as np\n",
    "import pandas as pd\n",
    "import os\n",
    "import sys"
   ]
  },
  {
   "cell_type": "code",
   "execution_count": 71,
   "metadata": {},
   "outputs": [
    {
     "data": {
      "text/plain": [
       "'c:\\\\Users\\\\a00555655\\\\OneDrive - ONEVIRTUALOFFICE\\\\Documents\\\\Python Scripts\\\\CumulativeConsecutiveOccurrences\\\\Resources\\\\Data\\\\test_df.csv'"
      ]
     },
     "execution_count": 71,
     "metadata": {},
     "output_type": "execute_result"
    }
   ],
   "source": [
    "data_path = os.path.join(sys.path[0][:sys.path[0].rindex('\\\\')], r'Resources\\Data\\test_df.csv')\n",
    "data_path"
   ]
  },
  {
   "cell_type": "code",
   "execution_count": 72,
   "metadata": {},
   "outputs": [],
   "source": [
    "df = pd.read_csv(data_path)\n",
    "flags = df.flag.values"
   ]
  },
  {
   "cell_type": "code",
   "execution_count": 73,
   "metadata": {},
   "outputs": [],
   "source": [
    "def val_index_finder(arr, vals=None):\n",
    "    if vals==None:\n",
    "        vals = list(set(arr))\n",
    "    else:\n",
    "        pass\n",
    "    values_index = {val:[] for val in vals}\n",
    "    for i in range(len(arr)):\n",
    "        for val in values_index.keys():\n",
    "            if arr[i] == val:\n",
    "                values_index[val].append(i)\n",
    "    return values_index"
   ]
  },
  {
   "cell_type": "code",
   "execution_count": 130,
   "metadata": {},
   "outputs": [],
   "source": [
    "def block_finder(arr, vals_to_count=None):\n",
    "    values_index = val_index_finder(arr)\n",
    "    if vals_to_count == None:\n",
    "        vals_to_count = list(values_index.keys())\n",
    "    # print(vals_to_count)\n",
    "    blocks = {val:{'start_index':[], 'length':[]} for val in vals_to_count}\n",
    "    for val in vals_to_count:\n",
    "        # print(val)\n",
    "        block_count = 1\n",
    "        val_to_count = values_index[val]\n",
    "        for i in range(1, len(val_to_count)):\n",
    "            if block_count == 1:\n",
    "                # print(f'current block_count is {block_count} so appending the previous index {val_to_count[i-1]}')\n",
    "                blocks[val]['start_index'].append(val_to_count[i-1])\n",
    "            \n",
    "            if val_to_count[i] == val_to_count[i-1]+1:\n",
    "                # print(f'current block_count for {val}: {block_count}')\n",
    "                # print(f'{val_to_count[i]} is equal to {val_to_count[i-1]}+1 so adding 1 to block_count.')\n",
    "                block_count += 1\n",
    "            else:\n",
    "                # print(f'{val_to_count[i]} is not equal to {val_to_count[i-1]}+1 so appending {block_count} to the dict and then resetting block_count.')\n",
    "                blocks[val]['length'].append(block_count)\n",
    "                block_count = 1\n",
    "                \n",
    "            if i == len(val_to_count)-1:\n",
    "                blocks[val]['length'].append(block_count)\n",
    "    \n",
    "    return values_index, blocks"
   ]
  },
  {
   "cell_type": "code",
   "execution_count": 131,
   "metadata": {},
   "outputs": [],
   "source": [
    "values_index, blocks = block_finder(flags)"
   ]
  },
  {
   "cell_type": "markdown",
   "metadata": {},
   "source": [
    "## Efficacy Checks"
   ]
  },
  {
   "cell_type": "code",
   "execution_count": 134,
   "metadata": {},
   "outputs": [
    {
     "data": {
      "text/plain": [
       "(2662, 2662, 2663, 2663)"
      ]
     },
     "execution_count": 134,
     "metadata": {},
     "output_type": "execute_result"
    }
   ],
   "source": [
    "len(blocks[1]['start_index']), len(blocks[1]['length']), len(blocks[0]['start_index']), len(blocks[0]['length'])"
   ]
  },
  {
   "cell_type": "code",
   "execution_count": 135,
   "metadata": {},
   "outputs": [
    {
     "data": {
      "text/plain": [
       "False"
      ]
     },
     "execution_count": 135,
     "metadata": {},
     "output_type": "execute_result"
    }
   ],
   "source": [
    "idx = 1\n",
    "value = 0\n",
    "\n",
    "test_index_and_length = blocks[value]['start_index'][idx], blocks[value]['length'][idx]\n",
    "(flags[test_index_and_length[0]:test_index_and_length[1]] != value).any()"
   ]
  },
  {
   "cell_type": "code",
   "execution_count": null,
   "metadata": {},
   "outputs": [],
   "source": []
  }
 ],
 "metadata": {
  "kernelspec": {
   "display_name": "Python 3.10.5 ('dev')",
   "language": "python",
   "name": "python3"
  },
  "language_info": {
   "codemirror_mode": {
    "name": "ipython",
    "version": 3
   },
   "file_extension": ".py",
   "mimetype": "text/x-python",
   "name": "python",
   "nbconvert_exporter": "python",
   "pygments_lexer": "ipython3",
   "version": "3.10.5"
  },
  "orig_nbformat": 4,
  "vscode": {
   "interpreter": {
    "hash": "27e55a07bc38151c1c095ec1be726f30fcff6d2fbda644176d0355fa9ce05d44"
   }
  }
 },
 "nbformat": 4,
 "nbformat_minor": 2
}
